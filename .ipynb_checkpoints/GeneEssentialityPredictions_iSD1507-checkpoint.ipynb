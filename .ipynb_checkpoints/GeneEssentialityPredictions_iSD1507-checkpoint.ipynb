{
 "cells": [
  {
   "cell_type": "markdown",
   "metadata": {},
   "source": [
    "Author: Sanjeev Dahal <br>\n",
    "Script for simulating model iSD1509 to predict gene essentiality"
   ]
  },
  {
   "cell_type": "code",
   "execution_count": 1,
   "metadata": {},
   "outputs": [],
   "source": [
    "#cobra package\n",
    "import cobra\n",
    "from cobra import Model, Reaction, Metabolite\n",
    "\n",
    "\n",
    "#other packages\n",
    "import os\n",
    "from os.path import join\n",
    "import pandas as pd\n",
    "import numpy as np"
   ]
  },
  {
   "cell_type": "code",
   "execution_count": 2,
   "metadata": {},
   "outputs": [],
   "source": [
    "mydir = os.getcwd()"
   ]
  },
  {
   "cell_type": "code",
   "execution_count": 3,
   "metadata": {
    "scrolled": true
   },
   "outputs": [
    {
     "name": "stdout",
     "output_type": "stream",
     "text": [
      "Using license file /Users/sanjeevdahal/gurobi.lic\n",
      "Academic license - for non-commercial use only\n"
     ]
    }
   ],
   "source": [
    "#loading the model\n",
    "model_iSD = cobra.io.read_sbml_model(join(mydir, 'iSDModel.xml'))\n",
    "\n",
    "# storing default boundaries for both models\n",
    "original_bounds_dict = {}\n",
    "for r in model_iSD.reactions:\n",
    "    lb, ub = model_iSD.reactions.get_by_id(r.id).lower_bound, model_iSD.reactions.get_by_id(r.id).upper_bound\n",
    "    original_bounds_dict[r.id] = [lb, ub]"
   ]
  },
  {
   "cell_type": "code",
   "execution_count": 12,
   "metadata": {},
   "outputs": [],
   "source": [
    "# experimental data for core essential genes\n",
    "# from Poulsen et al., 2019 paper\n",
    "expData_core = pd.read_csv(join(mydir, 'core_essential_genes_Poulsen.txt'), header=None)\n",
    "essentialgenes_core = [x for x in expData_core[0]]\n",
    "essentialgenes_core = list(set(essentialgenes_core)) #to remove duplicates, if any\n",
    "\n",
    "iSDgenes = [x.id for x in model_iSD.genes]\n",
    "#not including PA_s0001 in iSDgenes\n",
    "iSDgenes.remove('PA_s0001')\n",
    "\n",
    "#only genes present in the model and experimental data\n",
    "exp_essential_iSD = list(set(essentialgenes_core).intersection(set(iSDgenes))) # essential genes\n",
    "exp_nonessential_iSD = list(set(iSDgenes).difference(set(exp_essential_iSD))) # non-essential genes"
   ]
  },
  {
   "cell_type": "markdown",
   "metadata": {},
   "source": [
    "### gene essentiality in LB media"
   ]
  },
  {
   "cell_type": "code",
   "execution_count": 11,
   "metadata": {},
   "outputs": [],
   "source": [
    "#loading the lb_media dictionary\n",
    "lb_media = pd.read_excel(join(mydir, 'media_LB_SCFM_MM.xlsx'), sheet_name= 'LB', header=0)\n",
    "\n",
    "\n",
    "#adding the LB media as a dictionary\n",
    "medium = {}\n",
    "for met in lb_media.metabolites:\n",
    "    metrxn = \"EX_\" + met + \"_e\"\n",
    "    medium[metrxn] = abs(np.float(lb_media[lb_media.loc[:,'metabolites'] == met].lb.values[0]))\n",
    "\n",
    "geneKOdict = {} #stores the gene knockout to growth prediction data\n",
    "\n",
    "for genes in iSDgenes:\n",
    "    #setting to the original bounds\n",
    "    for r in model_iSD.reactions:\n",
    "        try:\n",
    "            model_iSD.reactions.get_by_id(r.id).bounds = original_bounds_dict[r.id][0], original_bounds_dict[r.id][1]\n",
    "        except KeyError:\n",
    "            pass\n",
    "        \n",
    "    model_iSD.medium = medium #set the media to LB\n",
    "    \n",
    "    #set the objective\n",
    "    objective = 'BIOMASS_PA14_v27M'\n",
    "    model_iSD.reactions.get_by_id(objective).bounds = 0., 1000.\n",
    "    \n",
    "    #delete the gene\n",
    "    cobra.manipulation.delete_model_genes(model_iSD, [genes])\n",
    "    \n",
    "    # simulate\n",
    "    model_iSD.objective = objective\n",
    "    solution_iSD = model_iSD.optimize()\n",
    "    # undelete the gene\n",
    "    cobra.manipulation.undelete_model_genes(model_iSD)    \n",
    "    \n",
    "    #store the information in the geneKOdict dictionary\n",
    "    geneKOdict[genes] = solution_iSD.objective_value, solution_iSD.status\n",
    "\n"
   ]
  },
  {
   "cell_type": "code",
   "execution_count": 22,
   "metadata": {},
   "outputs": [
    {
     "name": "stdout",
     "output_type": "stream",
     "text": [
      "Precision: 0.6397058823529411\n",
      "Negative Predictive Accuracy: 0.9525893508388038\n",
      "Recall: 0.5723684210526315\n",
      "Specificity: 0.9638376383763838\n",
      "Overall Accuracy: 0.9243530192435302\n"
     ]
    }
   ],
   "source": [
    "count_tp = 0 #this will count the true positive\n",
    "count_tn = 0 #this will count the true negative\n",
    "count_predictedessential = 0 #for counting all predicted essential genes\n",
    "\n",
    "dict_geneessentiality = {}\n",
    "\n",
    "for k in geneKOdict:\n",
    "    if k in exp_essential_iSD:\n",
    "        if geneKOdict[k][1] != 'optimal' or geneKOdict[k][0] < 0.00001:\n",
    "            count_predictedessential += 1\n",
    "            count_tp += 1\n",
    "            dict_geneessentiality[k] = geneKOdict[k][0], geneKOdict[k][1], 'essential', '1'\n",
    "        else:\n",
    "            dict_geneessentiality[k] = geneKOdict[k][0], geneKOdict[k][1], 'essential', '0'\n",
    "    else:\n",
    "        if geneKOdict[k][1] != 'optimal' or geneKOdict[k][0] < 0.00001: \n",
    "            count_predictedessential += 1\n",
    "            dict_geneessentiality[k] = geneKOdict[k][0], geneKOdict[k][1], 'nonessential', '0'\n",
    "        else:\n",
    "            count_tn += 1\n",
    "            dict_geneessentiality[k] = geneKOdict[k][0], geneKOdict[k][1], 'nonessential', '1'\n",
    "    \n",
    "\n",
    "# metrics for gene essentiality prediction comparison with experimental data\n",
    "accuracy = (count_tn + count_tp)/len(iSDgenes) #overall accuracy\n",
    "precision = count_tp/count_predictedessential #precision\n",
    "neg_pa = count_tn/(len(iSDgenes) - count_predictedessential) #negative predictive accuracy\n",
    "recall = count_tp/len(exp_essential_iSD) # recall\n",
    "specificity = count_tn/len(exp_nonessential_iSD) #specificity\n",
    "\n",
    "print(\"Precision: %s\\nNegative Predictive Accuracy: %s\\nRecall: %s\\nSpecificity: %s\\nOverall Accuracy: %s\"%(str(precision), str(neg_pa), str(recall), str(specificity), str(accuracy)))"
   ]
  }
 ],
 "metadata": {
  "kernelspec": {
   "display_name": "Python 3",
   "language": "python",
   "name": "python3"
  },
  "language_info": {
   "codemirror_mode": {
    "name": "ipython",
    "version": 3
   },
   "file_extension": ".py",
   "mimetype": "text/x-python",
   "name": "python",
   "nbconvert_exporter": "python",
   "pygments_lexer": "ipython3",
   "version": "3.7.7"
  }
 },
 "nbformat": 4,
 "nbformat_minor": 4
}
