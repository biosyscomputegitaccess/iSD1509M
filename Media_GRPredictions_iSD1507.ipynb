{
 "cells": [
  {
   "cell_type": "markdown",
   "metadata": {},
   "source": [
    "Author: Sanjeev Dahal <br>\n",
    "Script for simulating model iSD1509 on various growth media such as LB rich media, SCFM (Synthetic Cystic Fibrosis Media, minimal media containing different substrates"
   ]
  },
  {
   "cell_type": "markdown",
   "metadata": {},
   "source": [
    "### import all packages"
   ]
  },
  {
   "cell_type": "code",
   "execution_count": 27,
   "metadata": {},
   "outputs": [],
   "source": [
    "#cobra package\n",
    "import cobra\n",
    "from cobra import Model, Reaction, Metabolite\n",
    "from cobra.flux_analysis import pfba\n",
    "\n",
    "\n",
    "#other packages\n",
    "import os\n",
    "from os.path import join\n",
    "import pandas as pd\n",
    "import numpy as np"
   ]
  },
  {
   "cell_type": "code",
   "execution_count": 28,
   "metadata": {},
   "outputs": [],
   "source": [
    "mydir = os.getcwd() #set the directory to the current one"
   ]
  },
  {
   "cell_type": "code",
   "execution_count": 29,
   "metadata": {
    "scrolled": true
   },
   "outputs": [],
   "source": [
    "#loading the model\n",
    "model_iSD = cobra.io.read_sbml_model(join(mydir, 'iSDModel.xml'))\n",
    "\n",
    "# storing default boundaries for both models\n",
    "original_bounds_dict = {}\n",
    "for r in model_iSD.reactions:\n",
    "    lb, ub = model_iSD.reactions.get_by_id(r.id).lower_bound, model_iSD.reactions.get_by_id(r.id).upper_bound\n",
    "    original_bounds_dict[r.id] = [lb, ub]"
   ]
  },
  {
   "cell_type": "markdown",
   "metadata": {},
   "source": [
    "### Growth on LB media"
   ]
  },
  {
   "cell_type": "code",
   "execution_count": 36,
   "metadata": {},
   "outputs": [
    {
     "name": "stdout",
     "output_type": "stream",
     "text": [
      "Aerobic growth rate in LB:  1.5323746804956129\n"
     ]
    }
   ],
   "source": [
    "lb_media = pd.read_excel(join(mydir, 'media_LB_SCFM_MM.xlsx'), sheet_name= 'LB', header=0)\n",
    "\n",
    "#resetting the original conditions, but the new reactions will not be changed now\n",
    "for r in model_iSD.reactions:\n",
    "    model_iSD.reactions.get_by_id(r.id).bounds = original_bounds_dict[r.id][0], original_bounds_dict[r.id][1]\n",
    "\n",
    "#adding the LB media as a dictionary\n",
    "medium = {}\n",
    "for met in lb_media.metabolites:\n",
    "    metrxn = \"EX_\" + met + \"_e\"\n",
    "    medium[metrxn] = abs(np.float(lb_media[lb_media.loc[:,'metabolites'] == met].lb.values[0]))\n",
    "\n",
    "#now simulating\n",
    "with model_iSD:\n",
    "    #provide the medium to the model\n",
    "    model_iSD.medium = medium\n",
    "    #set the objective\n",
    "    objective = 'BIOMASS_PA14_v27M'\n",
    "    model_iSD.reactions.get_by_id(objective).bounds = 0., 1000.\n",
    "    model_iSD.objective = objective\n",
    "    \n",
    "    #simulate\n",
    "    print(\"Aerobic growth rate in LB: \", model_iSD.slim_optimize())"
   ]
  },
  {
   "cell_type": "markdown",
   "metadata": {},
   "source": [
    "### Growth in LB media (in anaerobic condition)"
   ]
  },
  {
   "cell_type": "code",
   "execution_count": 37,
   "metadata": {},
   "outputs": [
    {
     "name": "stdout",
     "output_type": "stream",
     "text": [
      "Anaerobic growth rate in LB:  0.7542805452802518\n"
     ]
    }
   ],
   "source": [
    "#for anaerobic in nitrate\n",
    "medium['EX_no3_e'] = 20.\n",
    "medium['EX_o2_e'] = 0.\n",
    "\n",
    "with model_iSD:\n",
    "    #resetting the original conditions, but the new reactions will not be changed now\n",
    "    for r in model_iSD.reactions:\n",
    "        model_iSD.reactions.get_by_id(r.id).bounds = original_bounds_dict[r.id][0], original_bounds_dict[r.id][1]\n",
    "    \n",
    "    #set the medium\n",
    "    model_iSD.medium = medium\n",
    "    #for anaerobic growth, we set the biomass objective to anaerobic one.\n",
    "    # if the growth rates have to be compared between aerobic and anaerobic condition, both need to be set to the same.\n",
    "    objective = 'BIOMASS_PA14_v27M_ANA' \n",
    "    model_iSD.reactions.get_by_id(objective).bounds = 0., 1000.\n",
    "    model_iSD.objective = objective\n",
    "\n",
    "    #shutting down q8-based reactions\n",
    "    for k in model_iSD.metabolites.get_by_id('q8h2_c').reactions:\n",
    "        model_iSD.reactions.get_by_id(k.id).bounds = 0., 0.\n",
    "    \n",
    "    #shutting down oxygen-based terminal oxidases\n",
    "    o2to = ['CYTCBB4pp_1', 'CYTCBB4pp_2', 'CYTCBB4pp_3', 'CYTCBB4pp_4', 'CYTCAA6pp', 'CIO3pp_q8', 'CIO3pp_q9', 'CYTBO3_4pp_q8', 'CYTBO3_4pp_q9', 'DALAOX']\n",
    "    for i in o2to:\n",
    "        try:\n",
    "            model_iSD.reactions.get_by_id(i).bounds = 0., 0.\n",
    "        except KeyError:\n",
    "            pass\n",
    "    \n",
    "    print(\"Anaerobic growth rate in LB: \", model_iSD.slim_optimize())"
   ]
  },
  {
   "cell_type": "markdown",
   "metadata": {},
   "source": [
    "### Growth on SCFM media"
   ]
  },
  {
   "cell_type": "code",
   "execution_count": 31,
   "metadata": {},
   "outputs": [
    {
     "name": "stdout",
     "output_type": "stream",
     "text": [
      "Growth rate in SCFM:  1.6212377187822458\n"
     ]
    }
   ],
   "source": [
    "scfm_media = pd.read_excel(join(mydir, 'media_LB_SCFM_MM.xlsx'), sheet_name= 'SCFM', header=0)\n",
    "\n",
    "#resetting the original conditions, but the new reactions will not be changed now\n",
    "for r in model_iSD.reactions:\n",
    "    model_iSD.reactions.get_by_id(r.id).bounds = original_bounds_dict[r.id][0], original_bounds_dict[r.id][1]\n",
    "\n",
    "#adding the SCFM media as a dictionary\n",
    "medium = {}\n",
    "for met in scfm_media.metabolites:\n",
    "    metrxn = \"EX_\" + met + \"_e\"\n",
    "    medium[metrxn] = abs(np.float(scfm_media[scfm_media.loc[:,'metabolites'] == met].lb.values[0]))\n",
    "\n",
    "with model_iSD:\n",
    "    #provide the medium to the model\n",
    "    model_iSD.medium = medium\n",
    "    #set the objective\n",
    "    objective = 'BIOMASS_PA14_v27M'\n",
    "    model_iSD.reactions.get_by_id(objective).bounds = 0., 1000.\n",
    "    model_iSD.objective = objective\n",
    "    \n",
    "    #simulate\n",
    "    print(\"Growth rate in SCFM: \", model_iSD.slim_optimize())"
   ]
  },
  {
   "cell_type": "markdown",
   "metadata": {},
   "source": [
    "### Growth on minimal media"
   ]
  },
  {
   "cell_type": "code",
   "execution_count": 25,
   "metadata": {},
   "outputs": [
    {
     "name": "stderr",
     "output_type": "stream",
     "text": [
      "/opt/miniconda3/envs/myCobra/lib/python3.7/site-packages/cobra/util/solver.py:554: UserWarning: Solver status is 'infeasible'.\n",
      "  warn(f\"Solver status is '{status}'.\", UserWarning)\n",
      "/opt/miniconda3/envs/myCobra/lib/python3.7/site-packages/cobra/util/solver.py:554: UserWarning: Solver status is 'infeasible'.\n",
      "  warn(f\"Solver status is '{status}'.\", UserWarning)\n",
      "/opt/miniconda3/envs/myCobra/lib/python3.7/site-packages/cobra/util/solver.py:554: UserWarning: Solver status is 'infeasible'.\n",
      "  warn(f\"Solver status is '{status}'.\", UserWarning)\n",
      "/opt/miniconda3/envs/myCobra/lib/python3.7/site-packages/cobra/util/solver.py:554: UserWarning: Solver status is 'infeasible'.\n",
      "  warn(f\"Solver status is '{status}'.\", UserWarning)\n",
      "/opt/miniconda3/envs/myCobra/lib/python3.7/site-packages/cobra/util/solver.py:554: UserWarning: Solver status is 'infeasible'.\n",
      "  warn(f\"Solver status is '{status}'.\", UserWarning)\n",
      "/opt/miniconda3/envs/myCobra/lib/python3.7/site-packages/cobra/util/solver.py:554: UserWarning: Solver status is 'infeasible'.\n",
      "  warn(f\"Solver status is '{status}'.\", UserWarning)\n",
      "/opt/miniconda3/envs/myCobra/lib/python3.7/site-packages/cobra/util/solver.py:554: UserWarning: Solver status is 'infeasible'.\n",
      "  warn(f\"Solver status is '{status}'.\", UserWarning)\n",
      "/opt/miniconda3/envs/myCobra/lib/python3.7/site-packages/cobra/util/solver.py:554: UserWarning: Solver status is 'infeasible'.\n",
      "  warn(f\"Solver status is '{status}'.\", UserWarning)\n",
      "/opt/miniconda3/envs/myCobra/lib/python3.7/site-packages/cobra/util/solver.py:554: UserWarning: Solver status is 'infeasible'.\n",
      "  warn(f\"Solver status is '{status}'.\", UserWarning)\n",
      "/opt/miniconda3/envs/myCobra/lib/python3.7/site-packages/cobra/util/solver.py:554: UserWarning: Solver status is 'infeasible'.\n",
      "  warn(f\"Solver status is '{status}'.\", UserWarning)\n",
      "/opt/miniconda3/envs/myCobra/lib/python3.7/site-packages/cobra/util/solver.py:554: UserWarning: Solver status is 'infeasible'.\n",
      "  warn(f\"Solver status is '{status}'.\", UserWarning)\n",
      "/opt/miniconda3/envs/myCobra/lib/python3.7/site-packages/cobra/util/solver.py:554: UserWarning: Solver status is 'infeasible'.\n",
      "  warn(f\"Solver status is '{status}'.\", UserWarning)\n",
      "/opt/miniconda3/envs/myCobra/lib/python3.7/site-packages/cobra/util/solver.py:554: UserWarning: Solver status is 'infeasible'.\n",
      "  warn(f\"Solver status is '{status}'.\", UserWarning)\n",
      "/opt/miniconda3/envs/myCobra/lib/python3.7/site-packages/cobra/util/solver.py:554: UserWarning: Solver status is 'infeasible'.\n",
      "  warn(f\"Solver status is '{status}'.\", UserWarning)\n",
      "/opt/miniconda3/envs/myCobra/lib/python3.7/site-packages/cobra/util/solver.py:554: UserWarning: Solver status is 'infeasible'.\n",
      "  warn(f\"Solver status is '{status}'.\", UserWarning)\n",
      "/opt/miniconda3/envs/myCobra/lib/python3.7/site-packages/cobra/util/solver.py:554: UserWarning: Solver status is 'infeasible'.\n",
      "  warn(f\"Solver status is '{status}'.\", UserWarning)\n",
      "/opt/miniconda3/envs/myCobra/lib/python3.7/site-packages/cobra/util/solver.py:554: UserWarning: Solver status is 'infeasible'.\n",
      "  warn(f\"Solver status is '{status}'.\", UserWarning)\n",
      "/opt/miniconda3/envs/myCobra/lib/python3.7/site-packages/cobra/util/solver.py:554: UserWarning: Solver status is 'infeasible'.\n",
      "  warn(f\"Solver status is '{status}'.\", UserWarning)\n",
      "/opt/miniconda3/envs/myCobra/lib/python3.7/site-packages/cobra/util/solver.py:554: UserWarning: Solver status is 'infeasible'.\n",
      "  warn(f\"Solver status is '{status}'.\", UserWarning)\n",
      "/opt/miniconda3/envs/myCobra/lib/python3.7/site-packages/cobra/util/solver.py:554: UserWarning: Solver status is 'infeasible'.\n",
      "  warn(f\"Solver status is '{status}'.\", UserWarning)\n",
      "/opt/miniconda3/envs/myCobra/lib/python3.7/site-packages/cobra/util/solver.py:554: UserWarning: Solver status is 'infeasible'.\n",
      "  warn(f\"Solver status is '{status}'.\", UserWarning)\n",
      "/opt/miniconda3/envs/myCobra/lib/python3.7/site-packages/cobra/util/solver.py:554: UserWarning: Solver status is 'infeasible'.\n",
      "  warn(f\"Solver status is '{status}'.\", UserWarning)\n",
      "/opt/miniconda3/envs/myCobra/lib/python3.7/site-packages/cobra/util/solver.py:554: UserWarning: Solver status is 'infeasible'.\n",
      "  warn(f\"Solver status is '{status}'.\", UserWarning)\n",
      "/opt/miniconda3/envs/myCobra/lib/python3.7/site-packages/cobra/util/solver.py:554: UserWarning: Solver status is 'infeasible'.\n",
      "  warn(f\"Solver status is '{status}'.\", UserWarning)\n",
      "/opt/miniconda3/envs/myCobra/lib/python3.7/site-packages/cobra/util/solver.py:554: UserWarning: Solver status is 'infeasible'.\n",
      "  warn(f\"Solver status is '{status}'.\", UserWarning)\n",
      "/opt/miniconda3/envs/myCobra/lib/python3.7/site-packages/cobra/util/solver.py:554: UserWarning: Solver status is 'infeasible'.\n",
      "  warn(f\"Solver status is '{status}'.\", UserWarning)\n",
      "/opt/miniconda3/envs/myCobra/lib/python3.7/site-packages/cobra/util/solver.py:554: UserWarning: Solver status is 'infeasible'.\n",
      "  warn(f\"Solver status is '{status}'.\", UserWarning)\n",
      "/opt/miniconda3/envs/myCobra/lib/python3.7/site-packages/cobra/util/solver.py:554: UserWarning: Solver status is 'infeasible'.\n",
      "  warn(f\"Solver status is '{status}'.\", UserWarning)\n",
      "/opt/miniconda3/envs/myCobra/lib/python3.7/site-packages/cobra/util/solver.py:554: UserWarning: Solver status is 'infeasible'.\n",
      "  warn(f\"Solver status is '{status}'.\", UserWarning)\n",
      "/opt/miniconda3/envs/myCobra/lib/python3.7/site-packages/cobra/util/solver.py:554: UserWarning: Solver status is 'infeasible'.\n",
      "  warn(f\"Solver status is '{status}'.\", UserWarning)\n",
      "/opt/miniconda3/envs/myCobra/lib/python3.7/site-packages/cobra/util/solver.py:554: UserWarning: Solver status is 'infeasible'.\n",
      "  warn(f\"Solver status is '{status}'.\", UserWarning)\n",
      "/opt/miniconda3/envs/myCobra/lib/python3.7/site-packages/cobra/util/solver.py:554: UserWarning: Solver status is 'infeasible'.\n",
      "  warn(f\"Solver status is '{status}'.\", UserWarning)\n",
      "/opt/miniconda3/envs/myCobra/lib/python3.7/site-packages/cobra/util/solver.py:554: UserWarning: Solver status is 'infeasible'.\n",
      "  warn(f\"Solver status is '{status}'.\", UserWarning)\n",
      "/opt/miniconda3/envs/myCobra/lib/python3.7/site-packages/cobra/util/solver.py:554: UserWarning: Solver status is 'infeasible'.\n",
      "  warn(f\"Solver status is '{status}'.\", UserWarning)\n",
      "/opt/miniconda3/envs/myCobra/lib/python3.7/site-packages/cobra/util/solver.py:554: UserWarning: Solver status is 'infeasible'.\n",
      "  warn(f\"Solver status is '{status}'.\", UserWarning)\n",
      "/opt/miniconda3/envs/myCobra/lib/python3.7/site-packages/cobra/util/solver.py:554: UserWarning: Solver status is 'infeasible'.\n",
      "  warn(f\"Solver status is '{status}'.\", UserWarning)\n",
      "/opt/miniconda3/envs/myCobra/lib/python3.7/site-packages/cobra/util/solver.py:554: UserWarning: Solver status is 'infeasible'.\n",
      "  warn(f\"Solver status is '{status}'.\", UserWarning)\n",
      "/opt/miniconda3/envs/myCobra/lib/python3.7/site-packages/cobra/util/solver.py:554: UserWarning: Solver status is 'infeasible'.\n",
      "  warn(f\"Solver status is '{status}'.\", UserWarning)\n",
      "/opt/miniconda3/envs/myCobra/lib/python3.7/site-packages/cobra/util/solver.py:554: UserWarning: Solver status is 'infeasible'.\n",
      "  warn(f\"Solver status is '{status}'.\", UserWarning)\n",
      "/opt/miniconda3/envs/myCobra/lib/python3.7/site-packages/cobra/util/solver.py:554: UserWarning: Solver status is 'infeasible'.\n",
      "  warn(f\"Solver status is '{status}'.\", UserWarning)\n",
      "/opt/miniconda3/envs/myCobra/lib/python3.7/site-packages/cobra/util/solver.py:554: UserWarning: Solver status is 'infeasible'.\n",
      "  warn(f\"Solver status is '{status}'.\", UserWarning)\n",
      "/opt/miniconda3/envs/myCobra/lib/python3.7/site-packages/cobra/util/solver.py:554: UserWarning: Solver status is 'infeasible'.\n",
      "  warn(f\"Solver status is '{status}'.\", UserWarning)\n",
      "/opt/miniconda3/envs/myCobra/lib/python3.7/site-packages/cobra/util/solver.py:554: UserWarning: Solver status is 'infeasible'.\n",
      "  warn(f\"Solver status is '{status}'.\", UserWarning)\n",
      "/opt/miniconda3/envs/myCobra/lib/python3.7/site-packages/cobra/util/solver.py:554: UserWarning: Solver status is 'infeasible'.\n",
      "  warn(f\"Solver status is '{status}'.\", UserWarning)\n",
      "/opt/miniconda3/envs/myCobra/lib/python3.7/site-packages/cobra/util/solver.py:554: UserWarning: Solver status is 'infeasible'.\n",
      "  warn(f\"Solver status is '{status}'.\", UserWarning)\n",
      "/opt/miniconda3/envs/myCobra/lib/python3.7/site-packages/cobra/util/solver.py:554: UserWarning: Solver status is 'infeasible'.\n",
      "  warn(f\"Solver status is '{status}'.\", UserWarning)\n"
     ]
    },
    {
     "name": "stderr",
     "output_type": "stream",
     "text": [
      "/opt/miniconda3/envs/myCobra/lib/python3.7/site-packages/cobra/util/solver.py:554: UserWarning: Solver status is 'infeasible'.\n",
      "  warn(f\"Solver status is '{status}'.\", UserWarning)\n",
      "/opt/miniconda3/envs/myCobra/lib/python3.7/site-packages/cobra/util/solver.py:554: UserWarning: Solver status is 'infeasible'.\n",
      "  warn(f\"Solver status is '{status}'.\", UserWarning)\n",
      "/opt/miniconda3/envs/myCobra/lib/python3.7/site-packages/cobra/util/solver.py:554: UserWarning: Solver status is 'infeasible'.\n",
      "  warn(f\"Solver status is '{status}'.\", UserWarning)\n",
      "/opt/miniconda3/envs/myCobra/lib/python3.7/site-packages/cobra/util/solver.py:554: UserWarning: Solver status is 'infeasible'.\n",
      "  warn(f\"Solver status is '{status}'.\", UserWarning)\n",
      "/opt/miniconda3/envs/myCobra/lib/python3.7/site-packages/cobra/util/solver.py:554: UserWarning: Solver status is 'infeasible'.\n",
      "  warn(f\"Solver status is '{status}'.\", UserWarning)\n",
      "/opt/miniconda3/envs/myCobra/lib/python3.7/site-packages/cobra/util/solver.py:554: UserWarning: Solver status is 'infeasible'.\n",
      "  warn(f\"Solver status is '{status}'.\", UserWarning)\n",
      "/opt/miniconda3/envs/myCobra/lib/python3.7/site-packages/cobra/util/solver.py:554: UserWarning: Solver status is 'infeasible'.\n",
      "  warn(f\"Solver status is '{status}'.\", UserWarning)\n",
      "/opt/miniconda3/envs/myCobra/lib/python3.7/site-packages/cobra/util/solver.py:554: UserWarning: Solver status is 'infeasible'.\n",
      "  warn(f\"Solver status is '{status}'.\", UserWarning)\n",
      "/opt/miniconda3/envs/myCobra/lib/python3.7/site-packages/cobra/util/solver.py:554: UserWarning: Solver status is 'infeasible'.\n",
      "  warn(f\"Solver status is '{status}'.\", UserWarning)\n",
      "/opt/miniconda3/envs/myCobra/lib/python3.7/site-packages/cobra/util/solver.py:554: UserWarning: Solver status is 'infeasible'.\n",
      "  warn(f\"Solver status is '{status}'.\", UserWarning)\n",
      "/opt/miniconda3/envs/myCobra/lib/python3.7/site-packages/cobra/util/solver.py:554: UserWarning: Solver status is 'infeasible'.\n",
      "  warn(f\"Solver status is '{status}'.\", UserWarning)\n",
      "/opt/miniconda3/envs/myCobra/lib/python3.7/site-packages/cobra/util/solver.py:554: UserWarning: Solver status is 'infeasible'.\n",
      "  warn(f\"Solver status is '{status}'.\", UserWarning)\n",
      "/opt/miniconda3/envs/myCobra/lib/python3.7/site-packages/cobra/util/solver.py:554: UserWarning: Solver status is 'infeasible'.\n",
      "  warn(f\"Solver status is '{status}'.\", UserWarning)\n",
      "/opt/miniconda3/envs/myCobra/lib/python3.7/site-packages/cobra/util/solver.py:554: UserWarning: Solver status is 'infeasible'.\n",
      "  warn(f\"Solver status is '{status}'.\", UserWarning)\n",
      "/opt/miniconda3/envs/myCobra/lib/python3.7/site-packages/cobra/util/solver.py:554: UserWarning: Solver status is 'infeasible'.\n",
      "  warn(f\"Solver status is '{status}'.\", UserWarning)\n",
      "/opt/miniconda3/envs/myCobra/lib/python3.7/site-packages/cobra/util/solver.py:554: UserWarning: Solver status is 'infeasible'.\n",
      "  warn(f\"Solver status is '{status}'.\", UserWarning)\n",
      "/opt/miniconda3/envs/myCobra/lib/python3.7/site-packages/cobra/util/solver.py:554: UserWarning: Solver status is 'infeasible'.\n",
      "  warn(f\"Solver status is '{status}'.\", UserWarning)\n",
      "/opt/miniconda3/envs/myCobra/lib/python3.7/site-packages/cobra/util/solver.py:554: UserWarning: Solver status is 'infeasible'.\n",
      "  warn(f\"Solver status is '{status}'.\", UserWarning)\n",
      "/opt/miniconda3/envs/myCobra/lib/python3.7/site-packages/cobra/util/solver.py:554: UserWarning: Solver status is 'infeasible'.\n",
      "  warn(f\"Solver status is '{status}'.\", UserWarning)\n",
      "/opt/miniconda3/envs/myCobra/lib/python3.7/site-packages/cobra/util/solver.py:554: UserWarning: Solver status is 'infeasible'.\n",
      "  warn(f\"Solver status is '{status}'.\", UserWarning)\n",
      "/opt/miniconda3/envs/myCobra/lib/python3.7/site-packages/cobra/util/solver.py:554: UserWarning: Solver status is 'infeasible'.\n",
      "  warn(f\"Solver status is '{status}'.\", UserWarning)\n",
      "/opt/miniconda3/envs/myCobra/lib/python3.7/site-packages/cobra/util/solver.py:554: UserWarning: Solver status is 'infeasible'.\n",
      "  warn(f\"Solver status is '{status}'.\", UserWarning)\n",
      "/opt/miniconda3/envs/myCobra/lib/python3.7/site-packages/cobra/util/solver.py:554: UserWarning: Solver status is 'infeasible'.\n",
      "  warn(f\"Solver status is '{status}'.\", UserWarning)\n",
      "/opt/miniconda3/envs/myCobra/lib/python3.7/site-packages/cobra/util/solver.py:554: UserWarning: Solver status is 'infeasible'.\n",
      "  warn(f\"Solver status is '{status}'.\", UserWarning)\n",
      "/opt/miniconda3/envs/myCobra/lib/python3.7/site-packages/cobra/util/solver.py:554: UserWarning: Solver status is 'infeasible'.\n",
      "  warn(f\"Solver status is '{status}'.\", UserWarning)\n",
      "/opt/miniconda3/envs/myCobra/lib/python3.7/site-packages/cobra/util/solver.py:554: UserWarning: Solver status is 'infeasible'.\n",
      "  warn(f\"Solver status is '{status}'.\", UserWarning)\n",
      "/opt/miniconda3/envs/myCobra/lib/python3.7/site-packages/cobra/util/solver.py:554: UserWarning: Solver status is 'infeasible'.\n",
      "  warn(f\"Solver status is '{status}'.\", UserWarning)\n",
      "/opt/miniconda3/envs/myCobra/lib/python3.7/site-packages/cobra/util/solver.py:554: UserWarning: Solver status is 'infeasible'.\n",
      "  warn(f\"Solver status is '{status}'.\", UserWarning)\n",
      "/opt/miniconda3/envs/myCobra/lib/python3.7/site-packages/cobra/util/solver.py:554: UserWarning: Solver status is 'infeasible'.\n",
      "  warn(f\"Solver status is '{status}'.\", UserWarning)\n",
      "/opt/miniconda3/envs/myCobra/lib/python3.7/site-packages/cobra/util/solver.py:554: UserWarning: Solver status is 'infeasible'.\n",
      "  warn(f\"Solver status is '{status}'.\", UserWarning)\n",
      "/opt/miniconda3/envs/myCobra/lib/python3.7/site-packages/cobra/util/solver.py:554: UserWarning: Solver status is 'infeasible'.\n",
      "  warn(f\"Solver status is '{status}'.\", UserWarning)\n",
      "/opt/miniconda3/envs/myCobra/lib/python3.7/site-packages/cobra/util/solver.py:554: UserWarning: Solver status is 'infeasible'.\n",
      "  warn(f\"Solver status is '{status}'.\", UserWarning)\n",
      "/opt/miniconda3/envs/myCobra/lib/python3.7/site-packages/cobra/util/solver.py:554: UserWarning: Solver status is 'infeasible'.\n",
      "  warn(f\"Solver status is '{status}'.\", UserWarning)\n"
     ]
    }
   ],
   "source": [
    "#for minimal media content\n",
    "minimal_media = pd.read_excel(join(mydir, 'media_LB_SCFM_MM.xlsx'), sheet_name= 'minimalmedia', header=0)\n",
    "\n",
    "#for substrates in minimal media such as glucose, carnitine, etc.\n",
    "csourcenames = pd.read_excel(join(mydir, 'media_LB_SCFM_MM.xlsx'), sheet_name= 'substrates_MM', header=0)\n",
    "\n",
    "\n",
    "# add the exchange reactions of the substrates if not present in the model.\n",
    "# if present, will do nothing\n",
    "# if the metabolite is not present, it will be added, and then its exchange reaction will also be added to the model\n",
    "\n",
    "for c in csourcenames.Carbon_Source:\n",
    "    addCrxn = \"EX_\" + c + \"_e\"\n",
    "    if addCrxn in model_iSD.reactions:\n",
    "        model_iSD.reactions.get_by_id(addCrxn).bounds = np.float(csourcenames[csourcenames.loc[:,'Carbon_Source'] == c].lb.values[0]), np.float(csourcenames[csourcenames.loc[:,'Carbon_Source'] == c].ub.values[0])\n",
    "    else:\n",
    "        met_e = c + \"_e\"\n",
    "        if met_e in [x.id for x in model_iSD.metabolites]:\n",
    "            model_iSD.add_boundary(model_iSD.metabolites.get_by_id(met_e), \n",
    "                                   type='exchange', \n",
    "                                   lb = np.float(csourcenames[csourcenames.loc[:,'Carbon_Source'] == c].lb.values[0]), \n",
    "                                   ub = np.float(csourcenames[csourcenames.loc[:,'Carbon_Source'] == c].ub.values[0]))\n",
    "\n",
    "        else:\n",
    "            met_add = Metabolite(id = met_e, compartment='e')\n",
    "            model_iSD.add_metabolites([met_add])\n",
    "            model_iSD.add_boundary(model_iSD.metabolites.get_by_id(met_e), \n",
    "                                   type='exchange', \n",
    "                                   lb = np.float(csourcenames[csourcenames.loc[:,'Carbon_Source'] == c].lb.values[0]), \n",
    "                                   ub = np.float(csourcenames[csourcenames.loc[:,'Carbon_Source'] == c].ub.values[0]))\n",
    "\n",
    "            \n",
    "met2growth = {} # a dictionary to store the carbon to growth data\n",
    "for c in csourcenames.Carbon_Source:\n",
    "    #reset to the default/original bounds\n",
    "    for r in model_iSD.reactions:\n",
    "        #since new reactions have been added, we use try..except\n",
    "        try:\n",
    "            model_iSD.reactions.get_by_id(r.id).bounds = original_bounds_dict[r.id][0], original_bounds_dict[r.id][1]\n",
    "        except KeyError:\n",
    "            pass\n",
    "\n",
    "    medium_iSD = {} #this will store the minimal media on which the model will be simulated\n",
    "    \n",
    "    #add the carbon substrate and minimal media to the medium\n",
    "    addCrxn = \"EX_\" + c + \"_e\"\n",
    "    medium_iSD[addCrxn] = abs(np.float(csourcenames[csourcenames.loc[:,'Carbon_Source'] == c].lb.values[0]))\n",
    "    \n",
    "    # here the minimal media is added to the model\n",
    "    for met in minimal_media.metabolites:\n",
    "        metrxn = \"EX_\" + met + \"_e\"\n",
    "        medium_iSD[metrxn] = abs(np.float(minimal_media[minimal_media.loc[:,'metabolites'] == met].lb.values[0]))\n",
    "    \n",
    "    # add the medium to the model\n",
    "    model_iSD.medium = medium_iSD\n",
    "    \n",
    "    # set the objective\n",
    "    objective = 'BIOMASS_PA14_v27M'\n",
    "    model_iSD.reactions.get_by_id(objective).bounds = 0., 1000.\n",
    "    model_iSD.objective = objective\n",
    "    \n",
    "    # simulate\n",
    "    solution_minmedia = model_iSD.optimize()\n",
    "    \n",
    "    #store the information in a dictionary called met2growth\n",
    "    met2growth[c] = solution_minmedia.status, solution_minmedia.objective_value\n",
    "    \n",
    "#_______________________________________________________________________________\n",
    "                    # INDEX INFORMATION FOR THE DICTIONARY met2growth\n",
    "                    #0: solution status\n",
    "                    #1: objective value\n",
    "#_______________________________________________________________________________\n",
    "\n",
    "false_pred_list = [] #to store the information for false predictions\n",
    "for k in met2growth:\n",
    "    growthnogrowth_val = csourcenames[csourcenames['Carbon_Source']==k].essential.values[0] #this gives the experimental data for each carbon substrate\n",
    "    if met2growth[k][0] == 'infeasible':\n",
    "        if met2growth[k][1] == None and growthnogrowth_val == 0:\n",
    "            pass\n",
    "        elif met2growth[k][1] == None and growthnogrowth_val == 1:\n",
    "            false_pred_list.append(k)\n",
    "    else:\n",
    "        if met2growth[k][1] >= 0.00001 and growthnogrowth_val == 1:\n",
    "            pass\n",
    "        elif met2growth[k][1] >= 0.00001 and growthnogrowth_val == 0:\n",
    "            false_pred_list.append(k)\n",
    "        elif met2growth[k][1] < 0.00001 and growthnogrowth_val == 0:\n",
    "            pass\n",
    "        elif met2growth[k][1] < 0.00001 and growthnogrowth_val == 1:\n",
    "            false_pred_list.append(k)"
   ]
  },
  {
   "cell_type": "code",
   "execution_count": 26,
   "metadata": {},
   "outputs": [
    {
     "name": "stdout",
     "output_type": "stream",
     "text": [
      "total substrates: 123\n",
      "false count: 8\n"
     ]
    }
   ],
   "source": [
    "#print the result\n",
    "print(\"total substrates:\", len(csourcenames.Carbon_Source))\n",
    "print(\"false count:\", len(false_pred_list))"
   ]
  },
  {
   "cell_type": "code",
   "execution_count": null,
   "metadata": {},
   "outputs": [],
   "source": []
  }
 ],
 "metadata": {
  "kernelspec": {
   "display_name": "Python 3",
   "language": "python",
   "name": "python3"
  },
  "language_info": {
   "codemirror_mode": {
    "name": "ipython",
    "version": 3
   },
   "file_extension": ".py",
   "mimetype": "text/x-python",
   "name": "python",
   "nbconvert_exporter": "python",
   "pygments_lexer": "ipython3",
   "version": "3.7.7"
  }
 },
 "nbformat": 4,
 "nbformat_minor": 4
}
